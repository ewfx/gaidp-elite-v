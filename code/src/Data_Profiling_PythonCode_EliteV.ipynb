{
 "cells": [
  {
   "cell_type": "code",
   "execution_count": 3,
   "id": "a96e3676",
   "metadata": {},
   "outputs": [],
   "source": [
    "# importing required modules \n",
    "from PyPDF2 import PdfReader \n",
    "from openai import AzureOpenAI\n",
    "from flask import Flask, request, jsonify\n",
    "import requests\n",
    "import pdfplumber\n",
    "import io\n",
    "import re\n",
    "import csv\n",
    "import pandas as pd"
   ]
  },
  {
   "cell_type": "code",
   "execution_count": 4,
   "id": "6ac1e0f0",
   "metadata": {},
   "outputs": [
    {
     "name": "stdout",
     "output_type": "stream",
     "text": [
      "             Field Name      MDRM  \\\n",
      "0           Customer ID  CLCOM047   \n",
      "1           Internal ID  CLCOM300   \n",
      "2  Original Internal ID  CLCOG064   \n",
      "3          Obligor Name  CLCO9017   \n",
      "4                  City  CLCO9130   \n",
      "5               Country  CLCO9031   \n",
      "6              Zip Code  CLCO9220   \n",
      "\n",
      "                                    Allowable Values  \\\n",
      "0  Must not contain a carriage return, line feed,...   \n",
      "1  Must not contain a carriage return, line feed,...   \n",
      "2  Must not contain a carriage return, line feed,...   \n",
      "3  Must not contain a carriage return, line feed,...   \n",
      "4                              Free text (A-Z only).   \n",
      "5  Use the 2-letter Country Code (ISO 3166-1 alph...   \n",
      "6  US: 5-digit ZIP; International: country-specif...   \n",
      "\n",
      "                                   Validation Rule  \n",
      "0  not bool(re.search(r'[\\r\\n,\\x00-\\x1F]', value))  \n",
      "1  not bool(re.search(r'[\\r\\n,\\x00-\\x1F]', value))  \n",
      "2  not bool(re.search(r'[\\r\\n,\\x00-\\x1F]', value))  \n",
      "3  not bool(re.search(r'[\\r\\n,\\x00-\\x1F]', value))  \n",
      "4    re.match(r'^[A-Za-z\\s]+$', value) is not None  \n",
      "5                     value in VALID_COUNTRY_CODES  \n",
      "6          re.match(r'^\\d{5}$', value) is not None  \n"
     ]
    }
   ],
   "source": [
    "# Sample DataFrame with extracted rules from PDF\n",
    "pdf_rules = pd.DataFrame([\n",
    "    {\"Field Name\": \"Customer ID\", \"MDRM\": \"CLCOM047\", \n",
    "     \"Allowable Values\": \"Must not contain a carriage return, line feed, comma or any unprintable character.\"},\n",
    "\n",
    "    {\"Field Name\": \"Internal ID\", \"MDRM\": \"CLCOM300\", \n",
    "     \"Allowable Values\": \"Must not contain a carriage return, line feed, comma or any unprintable character.\"},\n",
    "\n",
    "    {\"Field Name\": \"Original Internal ID\", \"MDRM\": \"CLCOG064\", \n",
    "     \"Allowable Values\": \"Must not contain a carriage return, line feed, comma or any unprintable character.\"},\n",
    "\n",
    "    {\"Field Name\": \"Obligor Name\", \"MDRM\": \"CLCO9017\", \n",
    "     \"Allowable Values\": \"Must not contain a carriage return, line feed, comma or any unprintable character.\"},\n",
    "\n",
    "    {\"Field Name\": \"City\", \"MDRM\": \"CLCO9130\", \n",
    "     \"Allowable Values\": \"Free text (A-Z only).\"},\n",
    "\n",
    "    {\"Field Name\": \"Country\", \"MDRM\": \"CLCO9031\", \n",
    "     \"Allowable Values\": \"Use the 2-letter Country Code (ISO 3166-1 alpha-2).\"},\n",
    "\n",
    "    {\"Field Name\": \"Zip Code\", \"MDRM\": \"CLCO9220\", \n",
    "     \"Allowable Values\": \"US: 5-digit ZIP; International: country-specific postal code.\"}\n",
    "])\n",
    "\n",
    "def convert_to_rule(allowable_values):\n",
    "    \"\"\"Convert Allowable Values text into Python validation expressions.\"\"\"\n",
    "    \n",
    "    # No carriage return, line feed, comma, or unprintable characters\n",
    "    if \"Must not contain a carriage return, line feed, comma or any unprintable character\" in allowable_values:\n",
    "        return \"not bool(re.search(r'[\\\\r\\\\n,\\\\x00-\\\\x1F]', value))\"\n",
    "    \n",
    "    # City name: A-Z only\n",
    "    elif \"Free text (A-Z only)\" in allowable_values:\n",
    "        return \"re.match(r'^[A-Za-z\\\\s]+$', value) is not None\"\n",
    "    \n",
    "    # Country Code: 2-letter ISO 3166-1 alpha-2\n",
    "    elif \"Use the 2-letter Country Code\" in allowable_values:\n",
    "        return \"value in VALID_COUNTRY_CODES\"\n",
    "    \n",
    "    # ZIP Code validation\n",
    "    elif \"5-digit ZIP\" in allowable_values:\n",
    "        return \"re.match(r'^\\\\d{5}$', value) is not None\"\n",
    "    \n",
    "    # Default: No restriction\n",
    "    return \"True\"\n",
    "\n",
    "# Apply function to generate validation rules\n",
    "pdf_rules[\"Validation Rule\"] = pdf_rules[\"Allowable Values\"].apply(convert_to_rule)\n",
    "\n",
    "# Display updated DataFrame\n",
    "print(pdf_rules)"
   ]
  },
  {
   "cell_type": "code",
   "execution_count": 5,
   "id": "7972c04d",
   "metadata": {},
   "outputs": [],
   "source": [
    "#read input CSV file \n",
    "\n",
    "def read_input_from_csv(csv_path):\n",
    "    input_data = []\n",
    "    with open(csv_path, mode='r') as file:\n",
    "        reader = csv.DictReader(file) \n",
    "        for row in reader:\n",
    "            input_data.append({\n",
    "                \"Customer ID\": row[\"Customer ID\"],\n",
    "                \"Internal ID\": row[\"Internal ID\"],\n",
    "                \"Original Internal ID\": row[\"Original Internal ID\"],\n",
    "                \"Obligor Name\": row[\"Obligor Name\"],\n",
    "                \"City\": row[\"City\"],\n",
    "                \"Country\": row[\"Country\"],\n",
    "                \"Zip Code\": row[\"Zip Code\"]\n",
    "            })\n",
    "    return pd.DataFrame(input_data, columns=[\"Customer ID\", \"Internal ID\", \"Original Internal ID\", \"Obligor Name\", \"City\", \"Country\", \"Zip Code\"])\n"
   ]
  },
  {
   "cell_type": "code",
   "execution_count": 6,
   "id": "5f4f46a7",
   "metadata": {},
   "outputs": [
    {
     "name": "stdout",
     "output_type": "stream",
     "text": [
      "  Customer ID Internal ID Original Internal ID Obligor Name         City  \\\n",
      "0       12345         345              5467899       Nagesh  Hyderabad12   \n",
      "1       45678         789              8456789      Sreekar   Bangalore3   \n",
      "\n",
      "  Country Zip Code  \n",
      "0   India   567834  \n",
      "1   India   345678  \n"
     ]
    }
   ],
   "source": [
    "csv_path = r\"C:\\Users\\sachi\\Downloads\\hackathon\\input_data.csv\"\n",
    "csv_data = read_input_from_csv(csv_path)\n",
    "print (csv_data)"
   ]
  },
  {
   "cell_type": "code",
   "execution_count": 18,
   "id": "94dacf2a",
   "metadata": {},
   "outputs": [],
   "source": [
    "# Function to validate CSV row data against the ruls in the PDF\n",
    "def validate_row(row, rules_df):\n",
    "    errors = []\n",
    "    \n",
    "    for _, rule in rules_df.iterrows():\n",
    "        field = rule[\"Field Name\"]\n",
    "        mdrm = rule[\"MDRM\"]\n",
    "        Allowable_Values = rule[\"Allowable Values\"]\n",
    "        validation_rule = rule[\"Validation Rule\"]\n",
    "\n",
    "        value = str(row.get(field, \"\"))  # Get field value from row\n",
    "\n",
    "        try:\n",
    "            # Evaluate the rule dynamically\n",
    "            if not eval(validation_rule):\n",
    "                errors.append({\n",
    "                    \"Row Number\": row.name + 1,  # Row index (1-based)\n",
    "                    \"Field Name\": field,\n",
    "                    \"MDRM\": mdrm,\n",
    "                    \"Allowable Values\": Allowable_Values,\n",
    "                    \"Invalid Value\": value\n",
    "                })\n",
    "        except Exception as e:\n",
    "            errors.append({\n",
    "                \"Row Number\": row.name + 1,\n",
    "                \"Field Name\": field,\n",
    "                \"MDRM\": mdrm,\n",
    "                \"Allowable Values\": Allowable_Values,\n",
    "                \"Invalid Value\": value\n",
    "            })\n",
    "\n",
    "    return errors"
   ]
  },
  {
   "cell_type": "code",
   "execution_count": 19,
   "id": "023e66e1",
   "metadata": {},
   "outputs": [],
   "source": [
    "import pandas as pd\n",
    "validation_errors = []\n",
    "for idx, row in csv_data.iterrows():\n",
    "    validation_errors.extend(validate_row(row, pdf_rules))"
   ]
  },
  {
   "cell_type": "code",
   "execution_count": 20,
   "id": "b9926267",
   "metadata": {},
   "outputs": [
    {
     "name": "stdout",
     "output_type": "stream",
     "text": [
      "   Row Number Field Name      MDRM  \\\n",
      "0           1       City  CLCO9130   \n",
      "1           1    Country  CLCO9031   \n",
      "2           1   Zip Code  CLCO9220   \n",
      "3           2       City  CLCO9130   \n",
      "4           2    Country  CLCO9031   \n",
      "5           2   Zip Code  CLCO9220   \n",
      "\n",
      "                                    Allowable Values Invalid Value  \n",
      "0                              Free text (A-Z only).   Hyderabad12  \n",
      "1  Use the 2-letter Country Code (ISO 3166-1 alph...         India  \n",
      "2  US: 5-digit ZIP; International: country-specif...        567834  \n",
      "3                              Free text (A-Z only).    Bangalore3  \n",
      "4  Use the 2-letter Country Code (ISO 3166-1 alph...         India  \n",
      "5  US: 5-digit ZIP; International: country-specif...        345678  \n"
     ]
    }
   ],
   "source": [
    "# Convert validation errors into a DataFrame\n",
    "validation_results = pd.DataFrame(validation_errors)\n",
    "\n",
    "# Display validation errors\n",
    "print(validation_results)"
   ]
  },
  {
   "cell_type": "code",
   "execution_count": 21,
   "id": "a70d6be4",
   "metadata": {},
   "outputs": [],
   "source": [
    "# Save validation errors to output CSV\n",
    "output_csv_path = r\"C:\\Users\\sachi\\Downloads\\hackathon\\validation_result.csv\"\n",
    "validation_results.to_csv(output_csv_path, index=False)"
   ]
  },
  {
   "cell_type": "code",
   "execution_count": null,
   "id": "3222d8c1",
   "metadata": {},
   "outputs": [],
   "source": []
  }
 ],
 "metadata": {
  "kernelspec": {
   "display_name": "Python 3 (ipykernel)",
   "language": "python",
   "name": "python3"
  },
  "language_info": {
   "codemirror_mode": {
    "name": "ipython",
    "version": 3
   },
   "file_extension": ".py",
   "mimetype": "text/x-python",
   "name": "python",
   "nbconvert_exporter": "python",
   "pygments_lexer": "ipython3",
   "version": "3.10.9"
  }
 },
 "nbformat": 4,
 "nbformat_minor": 5
}
